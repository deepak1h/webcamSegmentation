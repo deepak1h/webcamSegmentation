{
 "cells": [
  {
   "cell_type": "code",
   "execution_count": null,
   "id": "914bb152",
   "metadata": {},
   "outputs": [],
   "source": [
    "#requirments if not installed\n",
    "\n",
    "# !pip3 install torch torchvision --index-url https://download.pytorch.org/whl/cu118\n",
    "# !pip install opencv-python\n",
    "# !pip install pycocotools\n",
    "# !pip install cython"
   ]
  },
  {
   "cell_type": "code",
   "execution_count": 1,
   "id": "4efb0a6e",
   "metadata": {},
   "outputs": [],
   "source": [
    "#imports\n",
    "\n",
    "import torch\n",
    "import cv2\n",
    "from yolact import Yolact\n",
    "from collections import defaultdict\n",
    "import torch.backends.cudnn as cudnn\n",
    "from utils.augmentations import FastBaseTransform\n",
    "from utils import timer\n",
    "from data import cfg\n",
    "from layers.output_utils import postprocess\n",
    "from data import COLORS"
   ]
  },
  {
   "cell_type": "code",
   "execution_count": 2,
   "id": "7c78ad97",
   "metadata": {},
   "outputs": [],
   "source": [
    "#IF CUUDA added \n",
    "#FOR NOW IT WORKS ONLU ON CUDA MODE\n",
    "\n",
    "if torch.cuda.is_available():\n",
    "    cudnn.fastest = True\n",
    "    torch.set_default_tensor_type('torch.cuda.FloatTensor')"
   ]
  },
  {
   "cell_type": "code",
   "execution_count": 3,
   "id": "b00eb48b",
   "metadata": {},
   "outputs": [],
   "source": [
    "##SOME PARAMETERS ARGS\n",
    "sc=0.45\n",
    "top_k =15\n",
    "color_cache = defaultdict(lambda: {})\n",
    "display_masks=True;\n",
    "display_text_bbx=True;"
   ]
  },
  {
   "cell_type": "code",
   "execution_count": 4,
   "id": "dcea431d",
   "metadata": {},
   "outputs": [
    {
     "name": "stdout",
     "output_type": "stream",
     "text": [
      "Loading model..."
     ]
    },
    {
     "name": "stderr",
     "output_type": "stream",
     "text": [
      "C:\\Users\\deepa\\anaconda3\\envs\\newenv\\lib\\site-packages\\torch\\jit\\_recursive.py:260: UserWarning: 'lat_layers' was found in ScriptModule constants,  but it is a non-constant submodule. Consider removing it.\n",
      "  warnings.warn(\"'{}' was found in ScriptModule constants, \"\n",
      "C:\\Users\\deepa\\anaconda3\\envs\\newenv\\lib\\site-packages\\torch\\jit\\_recursive.py:260: UserWarning: 'downsample_layers' was found in ScriptModule constants,  but it is a non-constant submodule. Consider removing it.\n",
      "  warnings.warn(\"'{}' was found in ScriptModule constants, \"\n",
      "C:\\Users\\deepa\\anaconda3\\envs\\newenv\\lib\\site-packages\\torch\\jit\\_recursive.py:260: UserWarning: 'pred_layers' was found in ScriptModule constants,  but it is a non-constant submodule. Consider removing it.\n",
      "  warnings.warn(\"'{}' was found in ScriptModule constants, \"\n"
     ]
    },
    {
     "name": "stdout",
     "output_type": "stream",
     "text": [
      " Done.\n"
     ]
    }
   ],
   "source": [
    "#LOADING MODEL\n",
    "\n",
    "print('Loading model...', end='')\n",
    "net = Yolact()\n",
    "net.load_weights(\"model/yolact_base_54_800000.pth\")\n",
    "net.eval()\n",
    "net.cuda()\n",
    "print(' Done.')"
   ]
  },
  {
   "cell_type": "code",
   "execution_count": 5,
   "id": "fea1d96c",
   "metadata": {},
   "outputs": [],
   "source": [
    "#FOR POST PROCESSING OF IMAGE \n",
    "\n",
    "def prep_display(dets_out, img, h, w, undo_transform=True, class_color=False, mask_alpha=0.45, fps_str=''):\n",
    "    \n",
    "    if undo_transform:\n",
    "        img_numpy = undo_image_transformation(img, w, h)\n",
    "        img_gpu = torch.Tensor(img_numpy).cuda()\n",
    "    else:\n",
    "        img_gpu = img / 255.0\n",
    "        h, w, _ = img.shape\n",
    "    \n",
    "    with timer.env('Postprocess'):\n",
    "        save = cfg.rescore_bbox\n",
    "        cfg.rescore_bbox = True\n",
    "        t = postprocess(dets_out, w, h, visualize_lincomb = False,\n",
    "                                        crop_masks        = True,\n",
    "                                        score_threshold   = 0)\n",
    "        cfg.rescore_bbox = save\n",
    "    \n",
    "\n",
    "    with timer.env('Copy'):\n",
    "        idx = t[1].argsort(0, descending=True)[:top_k]\n",
    "        \n",
    "        if cfg.eval_mask_branch:\n",
    "            # Masks are drawn on the GPU, so don't copy\n",
    "            masks = t[3][idx]\n",
    "        classes, scores, boxes = [x[idx].cpu().numpy() for x in t[:3]]\n",
    "\n",
    "    num_dets_to_consider = min(top_k, classes.shape[0])\n",
    "    for j in range(num_dets_to_consider):\n",
    "        if scores[j] < sc:\n",
    "            num_dets_to_consider = j\n",
    "            break\n",
    "\n",
    "    def get_color(j, on_gpu=None):\n",
    "        global color_cache\n",
    "        color_idx = (classes[j] * 5 if class_color else j * 5) % len(COLORS)\n",
    "        \n",
    "        if on_gpu is not None and color_idx in color_cache[on_gpu]:\n",
    "            return color_cache[on_gpu][color_idx]\n",
    "        else:\n",
    "            color = COLORS[color_idx]\n",
    "            if not undo_transform:\n",
    "                # The image might come in as RGB or BRG, depending\n",
    "                color = (color[2], color[1], color[0])\n",
    "            if on_gpu is not None:\n",
    "                color = torch.Tensor(color).to(on_gpu).float() / 255.\n",
    "                color_cache[on_gpu][color_idx] = color\n",
    "            return color\n",
    "\n",
    "    if display_masks and cfg.eval_mask_branch and num_dets_to_consider > 0:\n",
    "        # After this, mask is of size [num_dets, h, w, 1]\n",
    "        masks = masks[:num_dets_to_consider, :, :, None]\n",
    "        colors = torch.cat([get_color(j, on_gpu=img_gpu.device.index).view(1, 1, 1, 3) for j in range(num_dets_to_consider)], dim=0)\n",
    "        masks_color = masks.repeat(1, 1, 1, 3) * colors * mask_alpha\n",
    "\n",
    "        inv_alph_masks = masks * (-mask_alpha) + 1\n",
    "\n",
    "        masks_color_summand = masks_color[0]\n",
    "        if num_dets_to_consider > 1:\n",
    "            inv_alph_cumul = inv_alph_masks[:(num_dets_to_consider-1)].cumprod(dim=0)\n",
    "            masks_color_cumul = masks_color[1:] * inv_alph_cumul\n",
    "            masks_color_summand += masks_color_cumul.sum(dim=0)\n",
    "\n",
    "        img_gpu = img_gpu * inv_alph_masks.prod(dim=0) + masks_color_summand\n",
    "\n",
    "    img_numpy = (img_gpu * 255).byte().cpu().numpy()\n",
    "\n",
    "    if num_dets_to_consider == 0:\n",
    "        return img_numpy\n",
    "\n",
    "    if display_text_bbx:\n",
    "        for j in reversed(range(num_dets_to_consider)):\n",
    "            x1, y1, x2, y2 = boxes[j, :]\n",
    "            color = get_color(j)\n",
    "            score = scores[j]\n",
    "\n",
    "            if True:\n",
    "                cv2.rectangle(img_numpy, (x1, y1), (x2, y2), color, 1)\n",
    "                \n",
    "                _class = cfg.dataset.class_names[classes[j]]\n",
    "                text_str = '%s: %.2f' % (_class, score) if True else _class\n",
    "\n",
    "                font_face = cv2.FONT_HERSHEY_DUPLEX\n",
    "                font_scale = 0.6\n",
    "                font_thickness = 1\n",
    "\n",
    "                text_w, text_h = cv2.getTextSize(text_str, font_face, font_scale, font_thickness)[0]\n",
    "\n",
    "                text_pt = (x1, y1 - 3)\n",
    "                text_color = [255, 255, 255]\n",
    "\n",
    "                cv2.rectangle(img_numpy, (x1, y1), (x1 + text_w, y1 - text_h - 4), color, -1)\n",
    "                cv2.putText(img_numpy, text_str, text_pt, font_face, font_scale, text_color, font_thickness, cv2.LINE_AA)\n",
    "    \n",
    "    return img_numpy"
   ]
  },
  {
   "cell_type": "code",
   "execution_count": 6,
   "id": "01a63ec5",
   "metadata": {},
   "outputs": [],
   "source": [
    "def evaluateimg(img):\n",
    "    \n",
    "    frame = torch.from_numpy(img).cuda().float()\n",
    "\n",
    "    batch = FastBaseTransform()(frame.unsqueeze(0))\n",
    "    with torch.no_grad():\n",
    "        preds = net(batch)\n",
    "\n",
    "    res = prep_display(preds, frame, None, None, undo_transform=False)\n",
    "    return res\n",
    "\n",
    " image = evaluateimg(frame)"
   ]
  },
  {
   "cell_type": "code",
   "execution_count": 10,
   "id": "fcc98ec7",
   "metadata": {
    "scrolled": true
   },
   "outputs": [],
   "source": [
    "# Open the default camera (camera index 0)\n",
    "cap = cv2.VideoCapture(0)\n",
    "\n",
    "# Continuously capture frames from the webcam\n",
    "while True:\n",
    "    # Read a frame from the camera\n",
    "    ret, frame = cap.read()\n",
    "\n",
    "    # Check if the frame was successfully captured\n",
    "    if not ret:\n",
    "        # If not, break out of the loop\n",
    "        break\n",
    "    \n",
    "    image = evaluateimg(frame)\n",
    "\n",
    "    # Process the captured frame using the 'evaluateimg' function\\\n",
    "    # This function likely performs image segmentation using a pre-trained model\n",
    "\n",
    "    # Display the processed frame on the screen\n",
    "    cv2.imshow(\"Camera Output\", image)\n",
    "\n",
    "    # Check if the 'q' key is pressed to exit the loop\n",
    "    if cv2.waitKey(1) & 0xFF == ord('q'):\n",
    "        break\n",
    "\n",
    "# Release the webcam (release camera resources)\n",
    "cap.release()\n",
    "\n",
    "# Close all OpenCV windows\n",
    "\n",
    "cv2.destroyAllWindows()\n"
   ]
  },
  {
   "cell_type": "code",
   "execution_count": null,
   "id": "a37921b7",
   "metadata": {},
   "outputs": [],
   "source": []
  },
  {
   "cell_type": "code",
   "execution_count": null,
   "id": "e0ba5fc8",
   "metadata": {},
   "outputs": [],
   "source": []
  },
  {
   "cell_type": "code",
   "execution_count": null,
   "id": "f11af102",
   "metadata": {},
   "outputs": [],
   "source": []
  }
 ],
 "metadata": {
  "kernelspec": {
   "display_name": "Python 3 (ipykernel)",
   "language": "python",
   "name": "python3"
  },
  "language_info": {
   "codemirror_mode": {
    "name": "ipython",
    "version": 3
   },
   "file_extension": ".py",
   "mimetype": "text/x-python",
   "name": "python",
   "nbconvert_exporter": "python",
   "pygments_lexer": "ipython3",
   "version": "3.8.18"
  }
 },
 "nbformat": 4,
 "nbformat_minor": 5
}
